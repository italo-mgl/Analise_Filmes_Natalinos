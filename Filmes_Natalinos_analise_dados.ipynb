{
 "cells": [
  {
   "cell_type": "code",
   "execution_count": 4,
   "metadata": {},
   "outputs": [],
   "source": [
    "import plotly.express as px\n",
    "import pandas as pd"
   ]
  },
  {
   "cell_type": "code",
   "execution_count": 5,
   "metadata": {},
   "outputs": [],
   "source": [
    "df_filmes = pd.read_csv('christmas_movies.csv')"
   ]
  },
  {
   "cell_type": "code",
   "execution_count": 7,
   "metadata": {},
   "outputs": [
    {
     "data": {
      "text/html": [
       "<div>\n",
       "<style scoped>\n",
       "    .dataframe tbody tr th:only-of-type {\n",
       "        vertical-align: middle;\n",
       "    }\n",
       "\n",
       "    .dataframe tbody tr th {\n",
       "        vertical-align: top;\n",
       "    }\n",
       "\n",
       "    .dataframe thead th {\n",
       "        text-align: right;\n",
       "    }\n",
       "</style>\n",
       "<table border=\"1\" class=\"dataframe\">\n",
       "  <thead>\n",
       "    <tr style=\"text-align: right;\">\n",
       "      <th></th>\n",
       "      <th>title</th>\n",
       "      <th>rating</th>\n",
       "      <th>runtime</th>\n",
       "      <th>imdb_rating</th>\n",
       "      <th>meta_score</th>\n",
       "      <th>genre</th>\n",
       "      <th>release_year</th>\n",
       "      <th>description</th>\n",
       "      <th>director</th>\n",
       "      <th>stars</th>\n",
       "      <th>votes</th>\n",
       "      <th>gross</th>\n",
       "      <th>img_src</th>\n",
       "      <th>type</th>\n",
       "    </tr>\n",
       "  </thead>\n",
       "  <tbody>\n",
       "    <tr>\n",
       "      <th>0</th>\n",
       "      <td>Love Actually</td>\n",
       "      <td>R</td>\n",
       "      <td>135.0</td>\n",
       "      <td>7.6</td>\n",
       "      <td>55.0</td>\n",
       "      <td>Comedy, Drama, Romance</td>\n",
       "      <td>2003.0</td>\n",
       "      <td>Follows the lives of eight very different coup...</td>\n",
       "      <td>Richard Curtis</td>\n",
       "      <td>Hugh Grant, Martine McCutcheon, Liam Neeson, L...</td>\n",
       "      <td>517,283</td>\n",
       "      <td>$59.70M</td>\n",
       "      <td>https://m.media-amazon.com/images/M/MV5BNThkNj...</td>\n",
       "      <td>Movie</td>\n",
       "    </tr>\n",
       "    <tr>\n",
       "      <th>1</th>\n",
       "      <td>Home Alone</td>\n",
       "      <td>PG</td>\n",
       "      <td>103.0</td>\n",
       "      <td>7.7</td>\n",
       "      <td>63.0</td>\n",
       "      <td>Comedy, Family</td>\n",
       "      <td>1990.0</td>\n",
       "      <td>An eight-year-old troublemaker, mistakenly lef...</td>\n",
       "      <td>Chris Columbus</td>\n",
       "      <td>Macaulay Culkin, Joe Pesci, Daniel Stern, John...</td>\n",
       "      <td>629,713</td>\n",
       "      <td>$285.76M</td>\n",
       "      <td>https://m.media-amazon.com/images/M/MV5BMzFkM2...</td>\n",
       "      <td>Movie</td>\n",
       "    </tr>\n",
       "    <tr>\n",
       "      <th>2</th>\n",
       "      <td>National Lampoon's Christmas Vacation</td>\n",
       "      <td>PG-13</td>\n",
       "      <td>97.0</td>\n",
       "      <td>7.5</td>\n",
       "      <td>49.0</td>\n",
       "      <td>Comedy</td>\n",
       "      <td>1989.0</td>\n",
       "      <td>The Griswold family's plans for a big family C...</td>\n",
       "      <td>Jeremiah S. Chechik</td>\n",
       "      <td>Chevy Chase, Beverly D'Angelo, Juliette Lewis,...</td>\n",
       "      <td>213,196</td>\n",
       "      <td>$71.32M</td>\n",
       "      <td>https://m.media-amazon.com/images/M/MV5BMGZkMW...</td>\n",
       "      <td>Movie</td>\n",
       "    </tr>\n",
       "    <tr>\n",
       "      <th>3</th>\n",
       "      <td>Elf</td>\n",
       "      <td>PG</td>\n",
       "      <td>97.0</td>\n",
       "      <td>7.1</td>\n",
       "      <td>66.0</td>\n",
       "      <td>Adventure, Comedy, Family</td>\n",
       "      <td>2003.0</td>\n",
       "      <td>Raised as an oversized elf, Buddy travels from...</td>\n",
       "      <td>Jon Favreau</td>\n",
       "      <td>Will Ferrell, James Caan, Bob Newhart, Zooey D...</td>\n",
       "      <td>300,546</td>\n",
       "      <td>$173.40M</td>\n",
       "      <td>https://m.media-amazon.com/images/M/MV5BMzUxNz...</td>\n",
       "      <td>Movie</td>\n",
       "    </tr>\n",
       "    <tr>\n",
       "      <th>4</th>\n",
       "      <td>How the Grinch Stole Christmas</td>\n",
       "      <td>PG</td>\n",
       "      <td>104.0</td>\n",
       "      <td>6.3</td>\n",
       "      <td>46.0</td>\n",
       "      <td>Comedy, Family, Fantasy</td>\n",
       "      <td>2000.0</td>\n",
       "      <td>On the outskirts of Whoville lives a green, re...</td>\n",
       "      <td>Ron Howard</td>\n",
       "      <td>Jim Carrey, Taylor Momsen, Kelley, Jeffrey Tam...</td>\n",
       "      <td>280,898</td>\n",
       "      <td>$260.04M</td>\n",
       "      <td>https://m.media-amazon.com/images/M/MV5BNWNiNT...</td>\n",
       "      <td>Movie</td>\n",
       "    </tr>\n",
       "  </tbody>\n",
       "</table>\n",
       "</div>"
      ],
      "text/plain": [
       "                                   title rating  runtime  imdb_rating  \\\n",
       "0                          Love Actually      R    135.0          7.6   \n",
       "1                             Home Alone     PG    103.0          7.7   \n",
       "2  National Lampoon's Christmas Vacation  PG-13     97.0          7.5   \n",
       "3                                    Elf     PG     97.0          7.1   \n",
       "4         How the Grinch Stole Christmas     PG    104.0          6.3   \n",
       "\n",
       "   meta_score                      genre  release_year  \\\n",
       "0        55.0     Comedy, Drama, Romance        2003.0   \n",
       "1        63.0             Comedy, Family        1990.0   \n",
       "2        49.0                     Comedy        1989.0   \n",
       "3        66.0  Adventure, Comedy, Family        2003.0   \n",
       "4        46.0    Comedy, Family, Fantasy        2000.0   \n",
       "\n",
       "                                         description             director  \\\n",
       "0  Follows the lives of eight very different coup...       Richard Curtis   \n",
       "1  An eight-year-old troublemaker, mistakenly lef...       Chris Columbus   \n",
       "2  The Griswold family's plans for a big family C...  Jeremiah S. Chechik   \n",
       "3  Raised as an oversized elf, Buddy travels from...          Jon Favreau   \n",
       "4  On the outskirts of Whoville lives a green, re...           Ron Howard   \n",
       "\n",
       "                                               stars    votes     gross  \\\n",
       "0  Hugh Grant, Martine McCutcheon, Liam Neeson, L...  517,283   $59.70M   \n",
       "1  Macaulay Culkin, Joe Pesci, Daniel Stern, John...  629,713  $285.76M   \n",
       "2  Chevy Chase, Beverly D'Angelo, Juliette Lewis,...  213,196   $71.32M   \n",
       "3  Will Ferrell, James Caan, Bob Newhart, Zooey D...  300,546  $173.40M   \n",
       "4  Jim Carrey, Taylor Momsen, Kelley, Jeffrey Tam...  280,898  $260.04M   \n",
       "\n",
       "                                             img_src   type  \n",
       "0  https://m.media-amazon.com/images/M/MV5BNThkNj...  Movie  \n",
       "1  https://m.media-amazon.com/images/M/MV5BMzFkM2...  Movie  \n",
       "2  https://m.media-amazon.com/images/M/MV5BMGZkMW...  Movie  \n",
       "3  https://m.media-amazon.com/images/M/MV5BMzUxNz...  Movie  \n",
       "4  https://m.media-amazon.com/images/M/MV5BNWNiNT...  Movie  "
      ]
     },
     "execution_count": 7,
     "metadata": {},
     "output_type": "execute_result"
    }
   ],
   "source": [
    "df_filmes.head()"
   ]
  },
  {
   "cell_type": "code",
   "execution_count": 8,
   "metadata": {},
   "outputs": [
    {
     "name": "stdout",
     "output_type": "stream",
     "text": [
      "<class 'pandas.core.frame.DataFrame'>\n",
      "RangeIndex: 873 entries, 0 to 872\n",
      "Data columns (total 14 columns):\n",
      " #   Column        Non-Null Count  Dtype  \n",
      "---  ------        --------------  -----  \n",
      " 0   title         873 non-null    object \n",
      " 1   rating        660 non-null    object \n",
      " 2   runtime       832 non-null    float64\n",
      " 3   imdb_rating   839 non-null    float64\n",
      " 4   meta_score    100 non-null    float64\n",
      " 5   genre         872 non-null    object \n",
      " 6   release_year  862 non-null    float64\n",
      " 7   description   873 non-null    object \n",
      " 8   director      868 non-null    object \n",
      " 9   stars         862 non-null    object \n",
      " 10  votes         839 non-null    object \n",
      " 11  gross         79 non-null     object \n",
      " 12  img_src       873 non-null    object \n",
      " 13  type          873 non-null    object \n",
      "dtypes: float64(4), object(10)\n",
      "memory usage: 95.6+ KB\n"
     ]
    }
   ],
   "source": [
    "df_filmes.info()"
   ]
  },
  {
   "cell_type": "markdown",
   "metadata": {},
   "source": [
    "# Limpeza dos Dados"
   ]
  },
  {
   "cell_type": "markdown",
   "metadata": {},
   "source": [
    "### IMDB RATING"
   ]
  },
  {
   "cell_type": "code",
   "execution_count": 14,
   "metadata": {},
   "outputs": [],
   "source": [
    "df_filmes_limpo = df_filmes[~df_filmes['imdb_rating'].isnull()]"
   ]
  },
  {
   "cell_type": "code",
   "execution_count": 15,
   "metadata": {},
   "outputs": [
    {
     "name": "stdout",
     "output_type": "stream",
     "text": [
      "<class 'pandas.core.frame.DataFrame'>\n",
      "Index: 839 entries, 0 to 867\n",
      "Data columns (total 14 columns):\n",
      " #   Column        Non-Null Count  Dtype  \n",
      "---  ------        --------------  -----  \n",
      " 0   title         839 non-null    object \n",
      " 1   rating        658 non-null    object \n",
      " 2   runtime       822 non-null    float64\n",
      " 3   imdb_rating   839 non-null    float64\n",
      " 4   meta_score    100 non-null    float64\n",
      " 5   genre         838 non-null    object \n",
      " 6   release_year  838 non-null    float64\n",
      " 7   description   839 non-null    object \n",
      " 8   director      838 non-null    object \n",
      " 9   stars         837 non-null    object \n",
      " 10  votes         839 non-null    object \n",
      " 11  gross         79 non-null     object \n",
      " 12  img_src       839 non-null    object \n",
      " 13  type          839 non-null    object \n",
      "dtypes: float64(4), object(10)\n",
      "memory usage: 98.3+ KB\n"
     ]
    }
   ],
   "source": [
    "df_filmes_limpo.info()"
   ]
  },
  {
   "cell_type": "markdown",
   "metadata": {},
   "source": [
    "### Genre"
   ]
  },
  {
   "cell_type": "code",
   "execution_count": 16,
   "metadata": {},
   "outputs": [
    {
     "data": {
      "text/plain": [
       "array(['Comedy, Drama, Romance', 'Comedy, Family', 'Comedy',\n",
       "       'Adventure, Comedy, Family', 'Comedy, Family, Fantasy',\n",
       "       'Animation, Comedy, Family', 'Action, Thriller',\n",
       "       'Adventure, Comedy, Crime', 'Animation, Adventure, Comedy',\n",
       "       'Drama, Family, Fantasy', 'Comedy, Drama, Family',\n",
       "       'Comedy, Musical, Romance', 'Comedy, Drama, Fantasy',\n",
       "       'Comedy, Family, Musical', 'Action, Comedy, Crime',\n",
       "       'Comedy, Crime, Drama', 'Animation, Family, Fantasy',\n",
       "       'Comedy, Romance', 'Comedy, Horror, Mystery',\n",
       "       'Comedy, Fantasy, Horror', 'Drama, Romance',\n",
       "       'Horror, Mystery, Thriller', 'Adventure, Family, Fantasy',\n",
       "       'Comedy, Drama, Music', 'Biography, Comedy, Drama',\n",
       "       'Action, Adventure, Comedy', 'Comedy, Crime, Family',\n",
       "       'Drama, Fantasy', 'Animation, Comedy, Drama',\n",
       "       'Action, Crime, Fantasy', 'Drama, Fantasy, Romance',\n",
       "       'Animation, Short, Comedy', 'Animation, Action, Adventure',\n",
       "       'Family, Fantasy, Musical', 'Comedy, Drama',\n",
       "       'Fantasy, Horror, Mystery', 'Drama, Family, Romance',\n",
       "       'Comedy, Family, Romance', 'Romance', 'Family, Fantasy, Music',\n",
       "       'Adventure, Drama, Family', 'Adventure, Comedy', nan,\n",
       "       'Comedy, Fantasy, Romance', 'Family, Fantasy', 'Drama',\n",
       "       'Animation, Adventure, Family', 'Mystery',\n",
       "       'Drama, Fantasy, Musical', 'Drama, Mystery, Romance',\n",
       "       'Animation, Drama, Family', 'Family', 'Drama, Family',\n",
       "       'Drama, Musical, Romance', 'Drama, Fantasy, Family',\n",
       "       'Animation, Family, Musical', 'Family, Romance',\n",
       "       'Crime, Drama, Romance', 'Drama, Music, Romance',\n",
       "       'Comedy, Family, Music', 'Fantasy, Romance',\n",
       "       'Drama, Romance, Sport', 'Comedy, Crime, Mystery',\n",
       "       'Biography, Drama, War', 'Drama, Mystery',\n",
       "       'Comedy, Drama, Mystery', 'Mystery, Romance', 'Romance, Western',\n",
       "       'Comedy, Mystery, Romance', 'Family, Drama, Fantasy',\n",
       "       'Animation, Short, Adventure', 'Comedy, History', 'Musical',\n",
       "       'Crime, Film-Noir, Mystery', 'Family, Fantasy, Romance',\n",
       "       'Adventure, Comedy, Drama', 'Comedy, Crime, Music',\n",
       "       'Drama, Family, Musical', 'Drama, Western',\n",
       "       'Crime, Drama, Film-Noir', 'Biography, Drama', 'Music, Romance',\n",
       "       'Comedy, Horror, Thriller', 'Animation, Comedy, Fantasy',\n",
       "       'Short, Family', 'Comedy, Fantasy', 'Comedy, Horror',\n",
       "       'Comedy, Crime, Romance', 'Horror', 'Drama, Music',\n",
       "       'Animation, Family', 'Comedy, Drama, Musical',\n",
       "       'Family, Music, Romance', 'Family, Mystery, Sport',\n",
       "       'Film-Noir, Mystery', 'Biography, Drama, Family',\n",
       "       'Comedy, Crime, Film-Noir', 'Short, Comedy, Musical',\n",
       "       'Animation, Short, Family', 'Adventure, Family, Musical',\n",
       "       'Short, Comedy, Romance', 'Adventure, Romance',\n",
       "       'Short, Family, Fantasy', 'Comedy, Horror, Sci-Fi',\n",
       "       'Music, Sci-Fi', 'Short, Drama', 'Action, Drama, Fantasy', 'Music',\n",
       "       'Animation, Comedy', 'Drama, History, War',\n",
       "       'Drama, Mystery, Thriller', 'Short, Comedy, Drama',\n",
       "       'Animation, Short', 'Musical, Sci-Fi', 'Comedy, Crime',\n",
       "       'Short, Comedy, Family'], dtype=object)"
      ]
     },
     "execution_count": 16,
     "metadata": {},
     "output_type": "execute_result"
    }
   ],
   "source": [
    "df_filmes_limpo.genre.unique()"
   ]
  },
  {
   "cell_type": "code",
   "execution_count": null,
   "metadata": {},
   "outputs": [],
   "source": []
  }
 ],
 "metadata": {
  "kernelspec": {
   "display_name": "Python 3",
   "language": "python",
   "name": "python3"
  },
  "language_info": {
   "codemirror_mode": {
    "name": "ipython",
    "version": 3
   },
   "file_extension": ".py",
   "mimetype": "text/x-python",
   "name": "python",
   "nbconvert_exporter": "python",
   "pygments_lexer": "ipython3",
   "version": "3.11.7"
  }
 },
 "nbformat": 4,
 "nbformat_minor": 2
}
